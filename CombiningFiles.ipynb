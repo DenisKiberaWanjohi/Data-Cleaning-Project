{
 "cells": [
  {
   "cell_type": "markdown",
   "metadata": {},
   "source": [
    "**Automation 1: Splitting and combining large files**\n",
    "---\n",
    "\n",
    "This process combines data from different excel files. It has the ability to combine files with different sheets as well. Currently, the process can combine three sheets; BOM details, supplier details, and supplier contact details. The sheets could have inconsistent names but must contain key words as outlined in the requirements. Also, If one file is missing a sheet, it combines sheets from other files. \n",
    "\n",
    "**Use Cases** \n",
    "Combine leveled BOM, product-part BOM, supplier, and supllier contact files.\n",
    "\n",
    "Combines multiple sheets at once, that is BOM details, supplier details, and supplier contact details. \n",
    "\n",
    "Combine files with inconsistent sheet names but contain keywords. For example, the BOM details sheet, regardless of the name variation, has to contain the keyword “BOM“. \n",
    "\n",
    "**Steps**\n",
    "\n",
    "Have the files in one folder. \n",
    "\n",
    "Add the path to the folder containing your files to the folder_path variable.\n",
    "\n",
    "Create an empty Excel file and add its path to the output_file variable.\n",
    "\n",
    "Run the code."
   ]
  },
  {
   "cell_type": "code",
   "execution_count": null,
   "metadata": {
    "vscode": {
     "languageId": "plaintext"
    }
   },
   "outputs": [],
   "source": [
    "import os\n",
    "import pandas as pd\n",
    "\n",
    "folder_path = r\"C:\"\n",
    "output_file = r\"C\"\n",
    "\n",
    "\n",
    "# Create empty DataFrames for \"BOM Details\", \"Supplier Details\", and \"Supplier Contacts Details\"\n",
    "combined_bom_df = pd.DataFrame()\n",
    "combined_supplier_df = pd.DataFrame()\n",
    "combined_contacts_df = pd.DataFrame()\n",
    "\n",
    "# Iterate over files in the folder\n",
    "for filename in os.listdir(folder_path):\n",
    "    filepath = os.path.join(folder_path, filename)\n",
    "    excel_data = pd.read_excel(filepath, sheet_name=None)  # Read all sheets from the Excel file\n",
    "\n",
    "    # Combine sheets from the current file\n",
    "    for sheet_name, sheet_df in excel_data.items():\n",
    "        if 'BOM' in sheet_name.upper() or 'LEVELED BOM' in sheet_name.upper():\n",
    "            combined_bom_df = pd.concat([combined_bom_df, sheet_df], axis=0)  # Concatenate the sheet data\n",
    "\n",
    "        if 'SUPPLIER' in sheet_name.upper() and 'CONTACT' not in sheet_name.upper():\n",
    "            combined_supplier_df = pd.concat([combined_supplier_df, sheet_df], axis=0)  # Concatenate the sheet data\n",
    "\n",
    "        if 'CONTACT' in sheet_name.upper() or ('SUPPLIER' in sheet_name.upper() and 'CONTACT' in sheet_name.upper()):\n",
    "            combined_contacts_df = pd.concat([combined_contacts_df, sheet_df], axis=0)  # Concatenate the sheet data\n",
    "\n",
    "# Write the combined data to the output Excel file\n",
    "with pd.ExcelWriter(output_file) as writer:\n",
    "    if not combined_bom_df.empty:  # Check if the \"BOM Details\" data exists\n",
    "        combined_bom_df.to_excel(writer, sheet_name='BOM Details', index=False)\n",
    "    if not combined_supplier_df.empty:  # Check if the \"Supplier Details\" data exists\n",
    "        combined_supplier_df.to_excel(writer, sheet_name='Supplier Details', index=False)\n",
    "    if not combined_contacts_df.empty:  # Check if the \"Supplier Contacts Details\" data exists\n",
    "        combined_contacts_df.to_excel(writer, sheet_name='Supplier Contacts Details', index=False)\n"
   ]
  }
 ],
 "metadata": {
  "language_info": {
   "name": "python"
  },
  "orig_nbformat": 4
 },
 "nbformat": 4,
 "nbformat_minor": 2
}
