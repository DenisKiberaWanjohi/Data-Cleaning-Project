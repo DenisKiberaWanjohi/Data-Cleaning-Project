{
 "cells": [
  {
   "cell_type": "markdown",
   "metadata": {},
   "source": [
    "# Task 1\n",
    "\n",
    "---\n",
    "\n",
    "## Web scraping and analysis\n",
    "\n",
    "This Jupyter notebook includes some code to get you started with web scraping. We will use a package called `BeautifulSoup` to collect the data from the web. Once you've collected your data and saved it into a local `.csv` file you should start with your analysis.\n",
    "\n",
    "### Scraping data from Skytrax\n",
    "\n",
    "If you visit [https://www.airlinequality.com] you can see that there is a lot of data there. For this task, we are only interested in reviews related to British Airways and the Airline itself.\n",
    "\n",
    "If you navigate to this link: [https://www.airlinequality.com/airline-reviews/british-airways] you will see this data. Now, we can use `Python` and `BeautifulSoup` to collect all the links to the reviews and then to collect the text data on each of the individual review links."
   ]
  },
  {
   "cell_type": "code",
   "execution_count": 63,
   "metadata": {},
   "outputs": [],
   "source": [
    "import requests\n",
    "from bs4 import BeautifulSoup\n",
    "import pandas as pd\n",
    "import matplotlib.pyplot as plt"
   ]
  },
  {
   "cell_type": "code",
   "execution_count": 64,
   "metadata": {},
   "outputs": [
    {
     "name": "stdout",
     "output_type": "stream",
     "text": [
      "Scraping page 1\n",
      "   ---> 100 total reviews\n",
      "Scraping page 2\n",
      "   ---> 200 total reviews\n",
      "Scraping page 3\n",
      "   ---> 300 total reviews\n",
      "Scraping page 4\n",
      "   ---> 400 total reviews\n",
      "Scraping page 5\n",
      "   ---> 500 total reviews\n",
      "Scraping page 6\n",
      "   ---> 600 total reviews\n",
      "Scraping page 7\n",
      "   ---> 700 total reviews\n",
      "Scraping page 8\n",
      "   ---> 800 total reviews\n",
      "Scraping page 9\n",
      "   ---> 900 total reviews\n",
      "Scraping page 10\n",
      "   ---> 1000 total reviews\n"
     ]
    }
   ],
   "source": [
    "base_url = \"https://www.airlinequality.com/airline-reviews/british-airways\"\n",
    "pages = 10\n",
    "page_size = 100\n",
    "\n",
    "reviews = []\n",
    "\n",
    "# for i in range(1, pages + 1):\n",
    "for i in range(1, pages + 1):\n",
    "\n",
    "    print(f\"Scraping page {i}\")\n",
    "\n",
    "    # Create URL to collect links from paginated data\n",
    "    url = f\"{base_url}/page/{i}/?sortby=post_date%3ADesc&pagesize={page_size}\"\n",
    "\n",
    "    # Collect HTML data from this page\n",
    "    response = requests.get(url)\n",
    "\n",
    "    # Parse content\n",
    "    content = response.content\n",
    "    parsed_content = BeautifulSoup(content, 'html.parser')\n",
    "    for para in parsed_content.find_all(\"div\", {\"class\": \"text_content\"}):\n",
    "        reviews.append(para.get_text())\n",
    "    \n",
    "    print(f\"   ---> {len(reviews)} total reviews\")"
   ]
  },
  {
   "cell_type": "code",
   "execution_count": 65,
   "metadata": {},
   "outputs": [
    {
     "data": {
      "text/html": [
       "<div>\n",
       "<style scoped>\n",
       "    .dataframe tbody tr th:only-of-type {\n",
       "        vertical-align: middle;\n",
       "    }\n",
       "\n",
       "    .dataframe tbody tr th {\n",
       "        vertical-align: top;\n",
       "    }\n",
       "\n",
       "    .dataframe thead th {\n",
       "        text-align: right;\n",
       "    }\n",
       "</style>\n",
       "<table border=\"1\" class=\"dataframe\">\n",
       "  <thead>\n",
       "    <tr style=\"text-align: right;\">\n",
       "      <th></th>\n",
       "      <th>reviews</th>\n",
       "    </tr>\n",
       "  </thead>\n",
       "  <tbody>\n",
       "    <tr>\n",
       "      <th>0</th>\n",
       "      <td>✅ Trip Verified | An airline that lives in the...</td>\n",
       "    </tr>\n",
       "    <tr>\n",
       "      <th>1</th>\n",
       "      <td>✅ Trip Verified |  Check-in Desk rude and dism...</td>\n",
       "    </tr>\n",
       "    <tr>\n",
       "      <th>2</th>\n",
       "      <td>✅ Trip Verified | I chose British Airways espe...</td>\n",
       "    </tr>\n",
       "    <tr>\n",
       "      <th>3</th>\n",
       "      <td>Not Verified | I booked Premium Economy from I...</td>\n",
       "    </tr>\n",
       "    <tr>\n",
       "      <th>4</th>\n",
       "      <td>✅ Trip Verified | A simple story with an unfor...</td>\n",
       "    </tr>\n",
       "  </tbody>\n",
       "</table>\n",
       "</div>"
      ],
      "text/plain": [
       "                                             reviews\n",
       "0  ✅ Trip Verified | An airline that lives in the...\n",
       "1  ✅ Trip Verified |  Check-in Desk rude and dism...\n",
       "2  ✅ Trip Verified | I chose British Airways espe...\n",
       "3  Not Verified | I booked Premium Economy from I...\n",
       "4  ✅ Trip Verified | A simple story with an unfor..."
      ]
     },
     "execution_count": 65,
     "metadata": {},
     "output_type": "execute_result"
    }
   ],
   "source": [
    "df = pd.DataFrame()\n",
    "df[\"reviews\"] = reviews\n",
    "df.head()"
   ]
  },
  {
   "cell_type": "code",
   "execution_count": 66,
   "metadata": {},
   "outputs": [],
   "source": [
    "df.to_csv(\"C:\\\\Users\\\\ADMIN\\\\Documents\\\\Data\\\\BA_reviews.csv\",index=False)"
   ]
  },
  {
   "cell_type": "markdown",
   "metadata": {},
   "source": [
    "Congratulations! Now you have your dataset for this task! The loops above collected 1000 reviews by iterating through the paginated pages on the website. However, if you want to collect more data, try increasing the number of pages!\n",
    "\n",
    " The next thing that you should do is clean this data to remove any unnecessary text from each of the rows. For example, \"✅ Trip Verified\" can be removed from each row if it exists, as it's not relevant to what we want to investigate."
   ]
  },
  {
   "cell_type": "markdown",
   "metadata": {},
   "source": [
    "Data Cleaning"
   ]
  },
  {
   "cell_type": "code",
   "execution_count": 67,
   "metadata": {},
   "outputs": [
    {
     "name": "stdout",
     "output_type": "stream",
     "text": [
      "                                               reviews\n",
      "0    ✅ Trip Verified | An airline that lives in the...\n",
      "1    ✅ Trip Verified |  Check-in Desk rude and dism...\n",
      "2    ✅ Trip Verified | I chose British Airways espe...\n",
      "3    Not Verified | I booked Premium Economy from I...\n",
      "4    ✅ Trip Verified | A simple story with an unfor...\n",
      "..                                                 ...\n",
      "995  ✅ Trip Verified | We flew from Los Angeles to ...\n",
      "996  ✅ Trip Verified |  Brindisi to London. Flying ...\n",
      "997  ✅ Trip Verified |  Chicago to London. I have f...\n",
      "998  ✅ Trip Verified |  Berlin to London. It was a ...\n",
      "999  ✅ Trip Verified |  British Airways is my favor...\n",
      "\n",
      "[1000 rows x 1 columns]\n"
     ]
    }
   ],
   "source": [
    "#Read the data(csv)\n",
    "import pandas as pd\n",
    "BA_reviews= pd.read_csv(\"C:\\\\Users\\\\ADMIN\\\\Documents\\\\Data\\\\BA_reviews.csv\")\n",
    "print(BA_reviews)"
   ]
  },
  {
   "cell_type": "code",
   "execution_count": 68,
   "metadata": {},
   "outputs": [
    {
     "name": "stdout",
     "output_type": "stream",
     "text": [
      "              reviews                                           reviews1\n",
      "0    ✅ Trip Verified    An airline that lives in their past glory and...\n",
      "1    ✅ Trip Verified     Check-in Desk rude and dismissive. Flight la...\n",
      "2    ✅ Trip Verified    I chose British Airways especially because I ...\n",
      "3       Not Verified    I booked Premium Economy from INV to LAX (via...\n",
      "4    ✅ Trip Verified    A simple story with an unfortunate outcome th...\n",
      "..                ...                                                ...\n",
      "995  ✅ Trip Verified    We flew from Los Angeles to Leeds Bradford vi...\n",
      "996  ✅ Trip Verified     Brindisi to London. Flying from any airport ...\n",
      "997  ✅ Trip Verified     Chicago to London. I have flown long haul ma...\n",
      "998  ✅ Trip Verified     Berlin to London. It was a connecting flight...\n",
      "999  ✅ Trip Verified     British Airways is my favorite airline. Boei...\n",
      "\n",
      "[1000 rows x 2 columns]\n"
     ]
    }
   ],
   "source": [
    "#Our CSV date has two columns, one showing if the review is verified or not, and the other with the review itself. \n",
    "#We only need the reviews for this analysis so we should drop the column showing if a review is verified or not. \n",
    "#Since this is a CSV, and it is delimited by the pipe, we need to delimit the two columns.\n",
    "BA_reviews[['reviews', 'reviews1']] = BA_reviews['reviews'].str.split(pat='|',  expand=True)\n",
    "print(BA_reviews)"
   ]
  },
  {
   "cell_type": "code",
   "execution_count": 69,
   "metadata": {},
   "outputs": [
    {
     "name": "stdout",
     "output_type": "stream",
     "text": [
      "                                              reviews1\n",
      "0     An airline that lives in their past glory and...\n",
      "1      Check-in Desk rude and dismissive. Flight la...\n",
      "2     I chose British Airways especially because I ...\n",
      "3     I booked Premium Economy from INV to LAX (via...\n",
      "4     A simple story with an unfortunate outcome th...\n",
      "..                                                 ...\n",
      "995   We flew from Los Angeles to Leeds Bradford vi...\n",
      "996    Brindisi to London. Flying from any airport ...\n",
      "997    Chicago to London. I have flown long haul ma...\n",
      "998    Berlin to London. It was a connecting flight...\n",
      "999    British Airways is my favorite airline. Boei...\n",
      "\n",
      "[1000 rows x 1 columns]\n"
     ]
    }
   ],
   "source": [
    "#Next we need to drop the first column showing if reviews are verified or not.\n",
    "#inplace=true did not work hear. It is usefull to permanently frop a column. (I will research more)\n",
    "BA_reviews = BA_reviews.drop('reviews', axis=1)\n",
    "print(BA_reviews)"
   ]
  },
  {
   "cell_type": "code",
   "execution_count": 70,
   "metadata": {},
   "outputs": [
    {
     "name": "stdout",
     "output_type": "stream",
     "text": [
      "                                              reviews1\n",
      "0    An airline that lives in their past glory and ...\n",
      "1    Check-in Desk rude and dismissive. Flight late...\n",
      "2    I chose British Airways especially because I w...\n",
      "3    I booked Premium Economy from INV to LAX (via ...\n",
      "4    A simple story with an unfortunate outcome tha...\n",
      "..                                                 ...\n",
      "995  We flew from Los Angeles to Leeds Bradford via...\n",
      "996  Brindisi to London. Flying from any airport th...\n",
      "997  Chicago to London. I have flown long haul many...\n",
      "998  Berlin to London. It was a connecting flight, ...\n",
      "999  British Airways is my favorite airline. Boeing...\n",
      "\n",
      "[1000 rows x 1 columns]\n"
     ]
    }
   ],
   "source": [
    "#Here we remove leading, trailing, and double spaces.\n",
    "#str.strip cleans leading and trailing spaces.\n",
    "#re.sub uses re to clean double spaces. str.replace could have also been used instead\n",
    "import re\n",
    "BA_reviews['reviews1']=BA_reviews['reviews1'].str.strip().apply(lambda x: re.sub(' +', ' ', x))\n",
    "print(BA_reviews)"
   ]
  },
  {
   "cell_type": "code",
   "execution_count": 71,
   "metadata": {},
   "outputs": [
    {
     "name": "stdout",
     "output_type": "stream",
     "text": [
      "                                              reviews1\n",
      "0    An airline that lives in their past glory and ...\n",
      "1    Check in Desk rude and dismissive  Flight late...\n",
      "2    I chose British Airways especially because I w...\n",
      "3    I booked Premium Economy from INV to LAX  via ...\n",
      "4    A simple story with an unfortunate outcome tha...\n",
      "..                                                 ...\n",
      "995  We flew from Los Angeles to Leeds Bradford via...\n",
      "996  Brindisi to London  Flying from any airport th...\n",
      "997  Chicago to London  I have flown long haul many...\n",
      "998  Berlin to London  It was a connecting flight  ...\n",
      "999  British Airways is my favorite airline  Boeing...\n",
      "\n",
      "[1000 rows x 1 columns]\n"
     ]
    }
   ],
   "source": [
    "'''Removal of special characters and punctuation: Remove unnecessary characters like hashtags, \n",
    "exclamation marks, and other punctuation marks that may not contribute to the sentiment analysis.'''\n",
    "import re\n",
    "\n",
    "def remove_special_characters(text):\n",
    "    # Replace special characters and punctuation with a space\n",
    "    cleaned_text = re.sub('[^\\w\\s]', ' ', text)\n",
    "    return cleaned_text\n",
    "\n",
    "# Apply the function to a DataFrame column\n",
    "BA_reviews['reviews1'] = BA_reviews['reviews1'] .apply(remove_special_characters)\n",
    "print(BA_reviews)\n"
   ]
  },
  {
   "cell_type": "code",
   "execution_count": 72,
   "metadata": {},
   "outputs": [
    {
     "name": "stdout",
     "output_type": "stream",
     "text": [
      "                                              reviews1\n",
      "0    an airline that lives in their past glory and ...\n",
      "1    check in desk rude and dismissive  flight late...\n",
      "2    i chose british airways especially because i w...\n",
      "3    i booked premium economy from inv to lax  via ...\n",
      "4    a simple story with an unfortunate outcome tha...\n",
      "..                                                 ...\n",
      "995  we flew from los angeles to leeds bradford via...\n",
      "996  brindisi to london  flying from any airport th...\n",
      "997  chicago to london  i have flown long haul many...\n",
      "998  berlin to london  it was a connecting flight  ...\n",
      "999  british airways is my favorite airline  boeing...\n",
      "\n",
      "[1000 rows x 1 columns]\n"
     ]
    }
   ],
   "source": [
    "#Lowercasing: Convert all text to lowercase to ensure consistency and avoid treating the same word with different cases as different entities.\n",
    "BA_reviews['reviews1']=BA_reviews['reviews1'].str.lower()\n",
    "print(BA_reviews)"
   ]
  },
  {
   "cell_type": "code",
   "execution_count": 73,
   "metadata": {},
   "outputs": [
    {
     "name": "stderr",
     "output_type": "stream",
     "text": [
      "[nltk_data] Downloading package punkt to\n",
      "[nltk_data]     C:\\Users\\ADMIN\\AppData\\Roaming\\nltk_data...\n",
      "[nltk_data]   Package punkt is already up-to-date!\n"
     ]
    },
    {
     "name": "stdout",
     "output_type": "stream",
     "text": [
      "                                              reviews1\n",
      "0    [an, airline, that, lives, in, their, past, gl...\n",
      "1    [check, in, desk, rude, and, dismissive, fligh...\n",
      "2    [i, chose, british, airways, especially, becau...\n",
      "3    [i, booked, premium, economy, from, inv, to, l...\n",
      "4    [a, simple, story, with, an, unfortunate, outc...\n",
      "..                                                 ...\n",
      "995  [we, flew, from, los, angeles, to, leeds, brad...\n",
      "996  [brindisi, to, london, flying, from, any, airp...\n",
      "997  [chicago, to, london, i, have, flown, long, ha...\n",
      "998  [berlin, to, london, it, was, a, connecting, f...\n",
      "999  [british, airways, is, my, favorite, airline, ...\n",
      "\n",
      "[1000 rows x 1 columns]\n"
     ]
    }
   ],
   "source": [
    "'''Tokenization: Split the text into individual words or tokens, as this is often the basic unit of analysis \n",
    "in natural language processing (NLP) tasks. This step helps in preprocessing and feature extraction.'''\n",
    "import nltk\n",
    "\n",
    "# Download the necessary NLTK resources for tokenization\n",
    "nltk.download('punkt')\n",
    "\n",
    "BA_reviews['reviews1']=BA_reviews['reviews1'].apply(nltk.word_tokenize)\n",
    "print(BA_reviews)\n"
   ]
  },
  {
   "cell_type": "code",
   "execution_count": 74,
   "metadata": {},
   "outputs": [
    {
     "name": "stderr",
     "output_type": "stream",
     "text": [
      "[nltk_data] Downloading package stopwords to\n",
      "[nltk_data]     C:\\Users\\ADMIN\\AppData\\Roaming\\nltk_data...\n",
      "[nltk_data]   Package stopwords is already up-to-date!\n"
     ]
    }
   ],
   "source": [
    "'''Stop word removal: Eliminate common words (e.g., \"the,\" \"is,\" \"and\") known as stop words,\n",
    " as they usually do not carry significant sentiment information. \n",
    "Consider using a predefined list of stop words or a library like NLTK (Natural Language Toolkit) to handle this.'''\n",
    "import nltk\n",
    "from nltk.corpus import stopwords\n",
    "\n",
    "# Download the stop words corpus\n",
    "nltk.download('stopwords')\n",
    "\n",
    "stop_words = set(stopwords.words('english'))\n",
    "\n",
    "BA_reviews['reviews1']=BA_reviews['reviews1'].apply(lambda tokens: [word for word in tokens if word not in stop_words])\n"
   ]
  },
  {
   "cell_type": "code",
   "execution_count": 75,
   "metadata": {},
   "outputs": [],
   "source": [
    "'''Handling contractions: Expand contractions (e.g., \"can't\" to \"cannot,\" \"don't\" to \"do not\")\n",
    " to ensure consistency in word representation.'''\n",
    "'''We pip install the library contractions to enable use to remove automatically detects and \n",
    "removes contractions from text without explicitly specifying each contraction.'''\n",
    "\n",
    "import contractions\n",
    "\n",
    "\n",
    "def remove_contractions(tokens):\n",
    "    # Convert list of tokens to a single string\n",
    "    text = ' '.join(tokens)\n",
    "    \n",
    "    # Remove contractions from the text\n",
    "    expanded_text = contractions.fix(text)\n",
    "    \n",
    "    # Convert the expanded text back to a list of tokens\n",
    "    expanded_tokens = expanded_text.split()\n",
    "    \n",
    "    return expanded_tokens\n",
    "\n",
    "BA_reviews['reviews1']=BA_reviews['reviews1'].apply(remove_contractions)\n",
    "\n"
   ]
  },
  {
   "cell_type": "code",
   "execution_count": 76,
   "metadata": {},
   "outputs": [
    {
     "data": {
      "text/plain": [
       "\"Handling spelling errors to correct common spelling mistakes. \\nAccurate spelling can improve sentiment analysis results.\\nimport textblob\\nfrom textblob import TextBlob\\n\\ndef correct_spelling(text):\\n    blob = TextBlob(str(text))  # Convert text to string\\n    corrected_text = str(blob.correct())\\n    return corrected_text\\n\\n# Apply the function to the 'review_text' column\\nBA_reviews['reviews1']=BA_reviews['reviews1'].apply(correct_spelling)\""
      ]
     },
     "execution_count": 76,
     "metadata": {},
     "output_type": "execute_result"
    }
   ],
   "source": [
    "'''Handling spelling errors to correct common spelling mistakes. \n",
    "Accurate spelling can improve sentiment analysis results.\n",
    "import textblob\n",
    "from textblob import TextBlob\n",
    "\n",
    "def correct_spelling(text):\n",
    "    blob = TextBlob(str(text))  # Convert text to string\n",
    "    corrected_text = str(blob.correct())\n",
    "    return corrected_text\n",
    "\n",
    "# Apply the function to the 'review_text' column\n",
    "BA_reviews['reviews1']=BA_reviews['reviews1'].apply(correct_spelling)'''\n"
   ]
  },
  {
   "cell_type": "code",
   "execution_count": 77,
   "metadata": {},
   "outputs": [
    {
     "name": "stderr",
     "output_type": "stream",
     "text": [
      "[nltk_data] Downloading package wordnet to\n",
      "[nltk_data]     C:\\Users\\ADMIN\\AppData\\Roaming\\nltk_data...\n",
      "[nltk_data]   Package wordnet is already up-to-date!\n"
     ]
    }
   ],
   "source": [
    "'''Lemmatization or stemming: Reduce words to their base or root form. \n",
    "Lemmatization produces valid words, while stemming can be faster but may produce non-real words.\n",
    " These techniques help in reducing word variations and improving feature extraction.'''\n",
    "import nltk\n",
    "from nltk.stem import WordNetLemmatizer\n",
    "\n",
    "# Download the WordNet corpus\n",
    "nltk.download('wordnet')\n",
    "\n",
    "lemmatizer = WordNetLemmatizer()\n",
    "\n",
    "BA_reviews['reviews1']=BA_reviews['reviews1'].apply(lambda tokens: [lemmatizer.lemmatize(word) for word in tokens])\n"
   ]
  },
  {
   "cell_type": "markdown",
   "metadata": {},
   "source": [
    "Sentiment Analysis "
   ]
  },
  {
   "cell_type": "code",
   "execution_count": 78,
   "metadata": {},
   "outputs": [
    {
     "name": "stdout",
     "output_type": "stream",
     "text": [
      "                                              reviews1 Sentiment\n",
      "0    [airline, life, past, glory, heading, future, ...  Negative\n",
      "1    [check, desk, rude, dismissive, flight, late, ...  Negative\n",
      "2    [chose, british, airway, especially, going, tr...  Negative\n",
      "3    [booked, premium, economy, inv, lax, via, lhr,...  Negative\n",
      "4    [simple, story, unfortunate, outcome, really, ...  Positive\n",
      "..                                                 ...       ...\n",
      "995  [flew, los, angeles, leeds, bradford, via, hea...  Positive\n",
      "996  [brindisi, london, flying, airport, includes, ...  Positive\n",
      "997  [chicago, london, flown, long, haul, many, tim...  Positive\n",
      "998  [berlin, london, connecting, flight, complain,...  Positive\n",
      "999  [british, airway, favorite, airline, boeing, 7...  Positive\n",
      "\n",
      "[1000 rows x 2 columns]\n"
     ]
    }
   ],
   "source": [
    "import nltk\n",
    "from nltk.sentiment import SentimentIntensityAnalyzer\n",
    "\n",
    "# Initialize the sentiment analyzer\n",
    "sid = SentimentIntensityAnalyzer()\n",
    "\n",
    "def analyze_sentiment(text):\n",
    "    '''Join the list of strings into a single string because yhe SentimentIntensityAnalyzer\n",
    "    from NLTK expects a string as input'''\n",
    "    text = ' '.join(text)\n",
    "\n",
    "    # Perform sentiment analysis\n",
    "    sentiment_scores = sid.polarity_scores(text)\n",
    "\n",
    "    # Classify sentiment based on the compound score\n",
    "    if sentiment_scores['compound'] >= 0.05:\n",
    "        sentiment = 'Positive'\n",
    "    elif sentiment_scores['compound'] <= -0.05:\n",
    "        sentiment = 'Negative'\n",
    "    else:\n",
    "        sentiment = 'Neutral'\n",
    "\n",
    "    return sentiment\n",
    "\n",
    "# Apply sentiment analysis to each review in 'reviews1' column\n",
    "BA_reviews['Sentiment'] = BA_reviews['reviews1'].apply(analyze_sentiment)\n",
    "\n",
    "# Print the updated DataFrame\n",
    "print(BA_reviews)"
   ]
  },
  {
   "cell_type": "code",
   "execution_count": 79,
   "metadata": {},
   "outputs": [
    {
     "name": "stdout",
     "output_type": "stream",
     "text": [
      "Sentiment\n",
      "Positive    589\n",
      "Negative    390\n",
      "Neutral      21\n",
      "Name: count, dtype: int64\n"
     ]
    },
    {
     "data": {
      "image/png": "[encoded data removed]",
      "text/plain": [
       "<Figure size 640x480 with 1 Axes>"
      ]
     },
     "metadata": {},
     "output_type": "display_data"
    }
   ],
   "source": [
    "#sentiment count\n",
    "sentiment_counts = BA_reviews['Sentiment'].value_counts()\n",
    "#print(sentiment_counts)\n",
    "#Find percentage\n",
    "sentiment_perc= (sentiment_counts / len(BA_reviews))*100\n",
    "print(sentiment_counts)\n",
    "\n",
    "#Pie Chart\n",
    "import matplotlib.pyplot as plt\n",
    "\n",
    "fig, ax=plt.subplots()\n",
    "ax.pie(\n",
    "    sentiment_perc,\n",
    "    labels=sentiment_perc.index,\n",
    "    colors=['blue','orange','yellow'],\n",
    "    explode=[0.05,0,0]\n",
    "\n",
    ")\n",
    "plt.show()\n"
   ]
  },
  {
   "cell_type": "code",
   "execution_count": 83,
   "metadata": {},
   "outputs": [
    {
     "name": "stderr",
     "output_type": "stream",
     "text": [
      "[nltk_data] Downloading package punkt to\n",
      "[nltk_data]     C:\\Users\\ADMIN\\AppData\\Roaming\\nltk_data...\n",
      "[nltk_data]   Package punkt is already up-to-date!\n"
     ]
    },
    {
     "data": {
      "image/png": "[encoded data removed]",
      "text/plain": [
       "<Figure size 640x480 with 1 Axes>"
      ]
     },
     "metadata": {},
     "output_type": "display_data"
    }
   ],
   "source": [
    "import nltk\n",
    "from nltk.corpus import stopwords\n",
    "from collections import Counter\n",
    "import matplotlib.pyplot as plt\n",
    "\n",
    "nltk.download('punkt')\n",
    "\n",
    "def count_word_frequencies(text):\n",
    "    # Convert list of words to a string\n",
    "    text_str = ' '.join(text)\n",
    "    # Tokenize the text into individual words\n",
    "    words = nltk.word_tokenize(text_str)\n",
    "    word_freq = Counter(words)\n",
    "    return word_freq\n",
    "\n",
    "# Apply the function to each row of the 'reviews1' column\n",
    "BA_reviews['Sentiment'] = BA_reviews['reviews1'].apply(count_word_frequencies)\n",
    "\n",
    "# Combine all word frequencies\n",
    "all_word_freq = Counter()\n",
    "for word_freq in BA_reviews['Sentiment']:\n",
    "    all_word_freq.update(word_freq)\n",
    "\n",
    "# Get the top 15 most frequent words and their frequencies\n",
    "top_words = all_word_freq.most_common(15)\n",
    "top_words = dict(top_words)  # Convert to dictionary for easier plotting\n",
    "\n",
    "# Plot the bar graph\n",
    "plt.bar(top_words.keys(), top_words.values())\n",
    "plt.xlabel('Words')\n",
    "plt.ylabel('Frequency')\n",
    "plt.title('Top Words Used')\n",
    "plt.xticks(rotation=90)\n",
    "\n",
    "\n",
    "plt.show()"
   ]
  }
 ],
 "metadata": {
  "kernelspec": {
   "display_name": "Python 3.9.13 ('venv': venv)",
   "language": "python",
   "name": "python3"
  },
  "language_info": {
   "codemirror_mode": {
    "name": "ipython",
    "version": 3
   },
   "file_extension": ".py",
   "mimetype": "text/x-python",
   "name": "python",
   "nbconvert_exporter": "python",
   "pygments_lexer": "ipython3",
   "version": "3.11.4"
  },
  "orig_nbformat": 4,
  "vscode": {
   "interpreter": {
    "hash": "4f7924c4c56b083e0e50eadfe7ef592a7a8ef70df33a0047f82280e6be1afe15"
   }
  }
 },
 "nbformat": 4,
 "nbformat_minor": 2
}
