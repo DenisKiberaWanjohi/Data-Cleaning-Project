{
  "cells": [
    {
      "cell_type": "markdown",
      "metadata": {
        "id": "wZy_6BxT10eN"
      },
      "source": [
        "**Data Cleaning Project: Analyzing and Cleaning a Customer Dataset**\n",
        "---"
      ]
    },
    {
      "cell_type": "markdown",
      "metadata": {
        "id": "4udgF-wT2Prt"
      },
      "source": [
        "**Project Description**\n"
      ]
    },
    {
      "cell_type": "markdown",
      "metadata": {
        "id": "U7Yj6jlY2qrT"
      },
      "source": [
        "In this data cleaning project, we work with a customer dataset to analyze and clean the data using Python and the Pandas library. The dataset contains information about customers, including their names, ages, email addresses, and purchase history. The goal of the project is to perform various data cleaning tasks to ensure the dataset is accurate, consistent, and ready for further analysis."
      ]
    },
    {
      "cell_type": "markdown",
      "metadata": {
        "id": "dRiKY3n82vGn"
      },
      "source": [
        "**Task Process**"
      ]
    },
    {
      "cell_type": "markdown",
      "metadata": {
        "id": "PkJcRhgs3BJC"
      },
      "source": [
        "\n",
        "\n",
        "1. Load the dataset into a Pandas DataFrame.\n",
        "2. Check for missing values in each column and handle them appropriately (e.g., replace with a default value or drop rows/columns).\n",
        "3. Remove any duplicates from the dataset.\n",
        "4. Convert the \"Age\" column to the appropriate data type (integer).\n",
        "5. Extract the domain names from the email addresses and create a new column called \"Domain\" to store them.\n",
        "6. Split the values in the \"Purchase History\" column into separate columns for each product. For example, if a customer purchased Product A and Product B, create two columns named \"Product A\" and \"Product B\" with binary values (1 if purchased, 0 if not).\n",
        "7. Calculate and add a new column called \"Total Purchases\" that contains the count of products purchased by each customer.\n",
        "8. Save the cleaned dataset to a new file for further analysis.\n",
        "\n"
      ]
    },
    {
      "cell_type": "markdown",
      "metadata": {
        "id": "O8KPJ5JP4dxF"
      },
      "source": [
        "***Dataset***"
      ]
    },
    {
      "cell_type": "markdown",
      "metadata": {
        "id": "fHpT5qty4mOo"
      },
      "source": [
        "https://docs.google.com/spreadsheets/d/11T3RUEixXGTNPEzt_w-aA13OCAPxp9tk80ksGw7uiVk/edit#gid=323589097\n"
      ]
    },
    {
      "cell_type": "markdown",
      "metadata": {
        "id": "SrFOHhee4nUM"
      },
      "source": [
        "**Project Solution**"
      ]
    },
    {
      "cell_type": "markdown",
      "metadata": {
        "id": "VSPu1-AG48NI"
      },
      "source": [
        "**Step 1: Loading the dataset into a Pandas DataFrame**\n",
        "\n",
        "In this step we import the Pandas library and creates a DataFrame to hold our dataset."
      ]
    },
    {
      "cell_type": "code",
      "execution_count": 92,
      "metadata": {
        "colab": {
          "base_uri": "https://localhost:8080/",
          "height": 206
        },
        "id": "7XR_iT_o5C6z",
        "outputId": "6896fcf0-e251-489d-b39f-9dcf8b333bb1"
      },
      "outputs": [
        {
          "data": {
            "text/html": [
              "<div>\n",
              "<style scoped>\n",
              "    .dataframe tbody tr th:only-of-type {\n",
              "        vertical-align: middle;\n",
              "    }\n",
              "\n",
              "    .dataframe tbody tr th {\n",
              "        vertical-align: top;\n",
              "    }\n",
              "\n",
              "    .dataframe thead th {\n",
              "        text-align: right;\n",
              "    }\n",
              "</style>\n",
              "<table border=\"1\" class=\"dataframe\">\n",
              "  <thead>\n",
              "    <tr style=\"text-align: right;\">\n",
              "      <th></th>\n",
              "      <th>Customer ID</th>\n",
              "      <th>Name</th>\n",
              "      <th>Age</th>\n",
              "      <th>Email</th>\n",
              "      <th>Purchase History</th>\n",
              "    </tr>\n",
              "  </thead>\n",
              "  <tbody>\n",
              "    <tr>\n",
              "      <th>0</th>\n",
              "      <td>1</td>\n",
              "      <td>John Doe</td>\n",
              "      <td>25</td>\n",
              "      <td>johndoe@example.com</td>\n",
              "      <td>Product A, Product B</td>\n",
              "    </tr>\n",
              "    <tr>\n",
              "      <th>1</th>\n",
              "      <td>2</td>\n",
              "      <td>Jane Smith</td>\n",
              "      <td>32</td>\n",
              "      <td>jane.smith@example.com</td>\n",
              "      <td>Product C</td>\n",
              "    </tr>\n",
              "    <tr>\n",
              "      <th>2</th>\n",
              "      <td>3</td>\n",
              "      <td>Alex Wang</td>\n",
              "      <td>28</td>\n",
              "      <td>alex.wang@example.com</td>\n",
              "      <td>NaN</td>\n",
              "    </tr>\n",
              "    <tr>\n",
              "      <th>3</th>\n",
              "      <td>4</td>\n",
              "      <td>Sarah Lee</td>\n",
              "      <td>42</td>\n",
              "      <td>sarah.lee@example.com</td>\n",
              "      <td>Product A, Product C</td>\n",
              "    </tr>\n",
              "    <tr>\n",
              "      <th>4</th>\n",
              "      <td>5</td>\n",
              "      <td>Mike Chen</td>\n",
              "      <td>35</td>\n",
              "      <td>mikechen@example.com</td>\n",
              "      <td>Product B</td>\n",
              "    </tr>\n",
              "  </tbody>\n",
              "</table>\n",
              "</div>"
            ],
            "text/plain": [
              "   Customer ID        Name  Age                   Email      Purchase History\n",
              "0            1    John Doe   25     johndoe@example.com  Product A, Product B\n",
              "1            2  Jane Smith   32  jane.smith@example.com             Product C\n",
              "2            3   Alex Wang   28   alex.wang@example.com                   NaN\n",
              "3            4   Sarah Lee   42   sarah.lee@example.com  Product A, Product C\n",
              "4            5   Mike Chen   35    mikechen@example.com             Product B"
            ]
          },
          "execution_count": 92,
          "metadata": {},
          "output_type": "execute_result"
        }
      ],
      "source": [
        "import pandas as pd\n",
        "df= pd.read_excel(\"C:\\\\Users\\\\Anomaly_dataset_Project_1.xlsx\")\n",
        "df"
      ]
    },
    {
      "cell_type": "markdown",
      "metadata": {
        "id": "z50ywP185I2d"
      },
      "source": [
        "**Step 2: Checking for missing values**\n",
        "\n",
        "We check for null values in our dataset using '.isnull()'. \n",
        "\n",
        "We can check for null values for each entry in our dataset but this is not possible for large data, so we use sum to summarise the null counts.\n",
        "\n"
      ]
    },
    {
      "cell_type": "code",
      "execution_count": 93,
      "metadata": {
        "colab": {
          "base_uri": "https://localhost:8080/"
        },
        "id": "kZ5YS5Zm5T0T",
        "outputId": "7d6f50d5-6f29-465a-8672-ec66ac54144c"
      },
      "outputs": [
        {
          "name": "stdout",
          "output_type": "stream",
          "text": [
            "   Customer ID   Name    Age  Email  Purchase History\n",
            "0        False  False  False  False             False\n",
            "1        False  False  False  False             False\n",
            "2        False  False  False  False              True\n",
            "3        False  False  False  False             False\n",
            "4        False  False  False  False             False\n"
          ]
        }
      ],
      "source": [
        "check_null=df.isnull()\n",
        "print(check_null)"
      ]
    },
    {
      "cell_type": "markdown",
      "metadata": {},
      "source": [
        "**Step 3: Handling missing values**\n",
        "\n",
        "We will handle missing values by dropping rows with missing values.\n",
        "\n",
        "PS: Missing data can be addressed by other techniques like imputation (mean, median, mode etc.) or using advanced methods like regression or interpolation."
      ]
    },
    {
      "cell_type": "code",
      "execution_count": 94,
      "metadata": {
        "id": "ZbncL5d95oLq"
      },
      "outputs": [],
      "source": [
        "df = df.dropna()"
      ]
    },
    {
      "cell_type": "markdown",
      "metadata": {},
      "source": [
        "**Step 4: Check for duplicates**\n",
        "\n",
        "We check for duplicates using 'duplicated()' function."
      ]
    },
    {
      "cell_type": "code",
      "execution_count": 95,
      "metadata": {},
      "outputs": [],
      "source": [
        "#We check for duplicates in our dataset\n",
        "duplicates = df[df.duplicated()]\n",
        "\n",
        "#There are no duplicates, buf if there was, we would use \"df = df.drop_duplicates()\" to remove duplicates\n",
        "\n"
      ]
    },
    {
      "cell_type": "markdown",
      "metadata": {},
      "source": [
        "**Step 5: Convert the \"Age\" column to the appropriate data type (integer).**\n",
        "\n"
      ]
    },
    {
      "cell_type": "code",
      "execution_count": 96,
      "metadata": {},
      "outputs": [
        {
          "name": "stderr",
          "output_type": "stream",
          "text": [
            "C:\\Users\\DenisW\\AppData\\Local\\Temp\\ipykernel_6680\\3823048673.py:1: SettingWithCopyWarning: \n",
            "A value is trying to be set on a copy of a slice from a DataFrame.\n",
            "Try using .loc[row_indexer,col_indexer] = value instead\n",
            "\n",
            "See the caveats in the documentation: https://pandas.pydata.org/pandas-docs/stable/user_guide/indexing.html#returning-a-view-versus-a-copy\n",
            "  df['Age'] = df['Age'].astype(int)\n"
          ]
        },
        {
          "data": {
            "text/html": [
              "<div>\n",
              "<style scoped>\n",
              "    .dataframe tbody tr th:only-of-type {\n",
              "        vertical-align: middle;\n",
              "    }\n",
              "\n",
              "    .dataframe tbody tr th {\n",
              "        vertical-align: top;\n",
              "    }\n",
              "\n",
              "    .dataframe thead th {\n",
              "        text-align: right;\n",
              "    }\n",
              "</style>\n",
              "<table border=\"1\" class=\"dataframe\">\n",
              "  <thead>\n",
              "    <tr style=\"text-align: right;\">\n",
              "      <th></th>\n",
              "      <th>Customer ID</th>\n",
              "      <th>Name</th>\n",
              "      <th>Age</th>\n",
              "      <th>Email</th>\n",
              "      <th>Purchase History</th>\n",
              "    </tr>\n",
              "  </thead>\n",
              "  <tbody>\n",
              "    <tr>\n",
              "      <th>0</th>\n",
              "      <td>1</td>\n",
              "      <td>John Doe</td>\n",
              "      <td>25</td>\n",
              "      <td>johndoe@example.com</td>\n",
              "      <td>Product A, Product B</td>\n",
              "    </tr>\n",
              "    <tr>\n",
              "      <th>1</th>\n",
              "      <td>2</td>\n",
              "      <td>Jane Smith</td>\n",
              "      <td>32</td>\n",
              "      <td>jane.smith@example.com</td>\n",
              "      <td>Product C</td>\n",
              "    </tr>\n",
              "    <tr>\n",
              "      <th>3</th>\n",
              "      <td>4</td>\n",
              "      <td>Sarah Lee</td>\n",
              "      <td>42</td>\n",
              "      <td>sarah.lee@example.com</td>\n",
              "      <td>Product A, Product C</td>\n",
              "    </tr>\n",
              "    <tr>\n",
              "      <th>4</th>\n",
              "      <td>5</td>\n",
              "      <td>Mike Chen</td>\n",
              "      <td>35</td>\n",
              "      <td>mikechen@example.com</td>\n",
              "      <td>Product B</td>\n",
              "    </tr>\n",
              "  </tbody>\n",
              "</table>\n",
              "</div>"
            ],
            "text/plain": [
              "   Customer ID        Name  Age                   Email      Purchase History\n",
              "0            1    John Doe   25     johndoe@example.com  Product A, Product B\n",
              "1            2  Jane Smith   32  jane.smith@example.com             Product C\n",
              "3            4   Sarah Lee   42   sarah.lee@example.com  Product A, Product C\n",
              "4            5   Mike Chen   35    mikechen@example.com             Product B"
            ]
          },
          "execution_count": 96,
          "metadata": {},
          "output_type": "execute_result"
        }
      ],
      "source": [
        "df['Age'] = df['Age'].astype(int)\n",
        "df\n"
      ]
    },
    {
      "cell_type": "markdown",
      "metadata": {},
      "source": [
        "**Step 6: Extract the domain names from the email addresses and create a new column called \"Domain\" to store them.**"
      ]
    },
    {
      "cell_type": "code",
      "execution_count": 97,
      "metadata": {},
      "outputs": [
        {
          "name": "stderr",
          "output_type": "stream",
          "text": [
            "C:\\Users\\DenisW\\AppData\\Local\\Temp\\ipykernel_6680\\3928483260.py:1: SettingWithCopyWarning: \n",
            "A value is trying to be set on a copy of a slice from a DataFrame.\n",
            "Try using .loc[row_indexer,col_indexer] = value instead\n",
            "\n",
            "See the caveats in the documentation: https://pandas.pydata.org/pandas-docs/stable/user_guide/indexing.html#returning-a-view-versus-a-copy\n",
            "  df['Domain'] = df['Email'].str.split('@').str[1]\n"
          ]
        },
        {
          "data": {
            "text/html": [
              "<div>\n",
              "<style scoped>\n",
              "    .dataframe tbody tr th:only-of-type {\n",
              "        vertical-align: middle;\n",
              "    }\n",
              "\n",
              "    .dataframe tbody tr th {\n",
              "        vertical-align: top;\n",
              "    }\n",
              "\n",
              "    .dataframe thead th {\n",
              "        text-align: right;\n",
              "    }\n",
              "</style>\n",
              "<table border=\"1\" class=\"dataframe\">\n",
              "  <thead>\n",
              "    <tr style=\"text-align: right;\">\n",
              "      <th></th>\n",
              "      <th>Customer ID</th>\n",
              "      <th>Name</th>\n",
              "      <th>Age</th>\n",
              "      <th>Email</th>\n",
              "      <th>Purchase History</th>\n",
              "      <th>Domain</th>\n",
              "    </tr>\n",
              "  </thead>\n",
              "  <tbody>\n",
              "    <tr>\n",
              "      <th>0</th>\n",
              "      <td>1</td>\n",
              "      <td>John Doe</td>\n",
              "      <td>25</td>\n",
              "      <td>johndoe@example.com</td>\n",
              "      <td>Product A, Product B</td>\n",
              "      <td>example.com</td>\n",
              "    </tr>\n",
              "    <tr>\n",
              "      <th>1</th>\n",
              "      <td>2</td>\n",
              "      <td>Jane Smith</td>\n",
              "      <td>32</td>\n",
              "      <td>jane.smith@example.com</td>\n",
              "      <td>Product C</td>\n",
              "      <td>example.com</td>\n",
              "    </tr>\n",
              "    <tr>\n",
              "      <th>3</th>\n",
              "      <td>4</td>\n",
              "      <td>Sarah Lee</td>\n",
              "      <td>42</td>\n",
              "      <td>sarah.lee@example.com</td>\n",
              "      <td>Product A, Product C</td>\n",
              "      <td>example.com</td>\n",
              "    </tr>\n",
              "    <tr>\n",
              "      <th>4</th>\n",
              "      <td>5</td>\n",
              "      <td>Mike Chen</td>\n",
              "      <td>35</td>\n",
              "      <td>mikechen@example.com</td>\n",
              "      <td>Product B</td>\n",
              "      <td>example.com</td>\n",
              "    </tr>\n",
              "  </tbody>\n",
              "</table>\n",
              "</div>"
            ],
            "text/plain": [
              "   Customer ID        Name  Age                   Email      Purchase History   \n",
              "0            1    John Doe   25     johndoe@example.com  Product A, Product B  \\\n",
              "1            2  Jane Smith   32  jane.smith@example.com             Product C   \n",
              "3            4   Sarah Lee   42   sarah.lee@example.com  Product A, Product C   \n",
              "4            5   Mike Chen   35    mikechen@example.com             Product B   \n",
              "\n",
              "        Domain  \n",
              "0  example.com  \n",
              "1  example.com  \n",
              "3  example.com  \n",
              "4  example.com  "
            ]
          },
          "execution_count": 97,
          "metadata": {},
          "output_type": "execute_result"
        }
      ],
      "source": [
        "df['Domain'] = df['Email'].str.split('@').str[1]\n",
        "df\n"
      ]
    },
    {
      "cell_type": "markdown",
      "metadata": {},
      "source": [
        "**Step 7: Split the values in the \"Purchase History\" column into separate columns for each product. For example, if a customer purchased Product A and Product B, create two columns named \"Product A\" and \"Product B\" with binary values (1 if purchased, 0 if not).**\n",
        "\n",
        "Here uses a technique known as one-hot encoding to transform categorical data in the \"Purchase History\" column into a format that can be used for analysis. One-hot encoding is commonly used when dealing with categorical variables in machine learning and data analysis."
      ]
    },
    {
      "cell_type": "code",
      "execution_count": 98,
      "metadata": {},
      "outputs": [
        {
          "data": {
            "text/html": [
              "<div>\n",
              "<style scoped>\n",
              "    .dataframe tbody tr th:only-of-type {\n",
              "        vertical-align: middle;\n",
              "    }\n",
              "\n",
              "    .dataframe tbody tr th {\n",
              "        vertical-align: top;\n",
              "    }\n",
              "\n",
              "    .dataframe thead th {\n",
              "        text-align: right;\n",
              "    }\n",
              "</style>\n",
              "<table border=\"1\" class=\"dataframe\">\n",
              "  <thead>\n",
              "    <tr style=\"text-align: right;\">\n",
              "      <th></th>\n",
              "      <th>Customer ID</th>\n",
              "      <th>Name</th>\n",
              "      <th>Age</th>\n",
              "      <th>Email</th>\n",
              "      <th>Purchase History</th>\n",
              "      <th>Domain</th>\n",
              "      <th>Product A</th>\n",
              "      <th>Product B</th>\n",
              "      <th>Product C</th>\n",
              "    </tr>\n",
              "  </thead>\n",
              "  <tbody>\n",
              "    <tr>\n",
              "      <th>0</th>\n",
              "      <td>1</td>\n",
              "      <td>John Doe</td>\n",
              "      <td>25</td>\n",
              "      <td>johndoe@example.com</td>\n",
              "      <td>Product A, Product B</td>\n",
              "      <td>example.com</td>\n",
              "      <td>1</td>\n",
              "      <td>1</td>\n",
              "      <td>0</td>\n",
              "    </tr>\n",
              "    <tr>\n",
              "      <th>1</th>\n",
              "      <td>2</td>\n",
              "      <td>Jane Smith</td>\n",
              "      <td>32</td>\n",
              "      <td>jane.smith@example.com</td>\n",
              "      <td>Product C</td>\n",
              "      <td>example.com</td>\n",
              "      <td>0</td>\n",
              "      <td>0</td>\n",
              "      <td>1</td>\n",
              "    </tr>\n",
              "    <tr>\n",
              "      <th>3</th>\n",
              "      <td>4</td>\n",
              "      <td>Sarah Lee</td>\n",
              "      <td>42</td>\n",
              "      <td>sarah.lee@example.com</td>\n",
              "      <td>Product A, Product C</td>\n",
              "      <td>example.com</td>\n",
              "      <td>1</td>\n",
              "      <td>0</td>\n",
              "      <td>1</td>\n",
              "    </tr>\n",
              "    <tr>\n",
              "      <th>4</th>\n",
              "      <td>5</td>\n",
              "      <td>Mike Chen</td>\n",
              "      <td>35</td>\n",
              "      <td>mikechen@example.com</td>\n",
              "      <td>Product B</td>\n",
              "      <td>example.com</td>\n",
              "      <td>0</td>\n",
              "      <td>1</td>\n",
              "      <td>0</td>\n",
              "    </tr>\n",
              "  </tbody>\n",
              "</table>\n",
              "</div>"
            ],
            "text/plain": [
              "   Customer ID        Name  Age                   Email      Purchase History   \n",
              "0            1    John Doe   25     johndoe@example.com  Product A, Product B  \\\n",
              "1            2  Jane Smith   32  jane.smith@example.com             Product C   \n",
              "3            4   Sarah Lee   42   sarah.lee@example.com  Product A, Product C   \n",
              "4            5   Mike Chen   35    mikechen@example.com             Product B   \n",
              "\n",
              "        Domain  Product A  Product B  Product C  \n",
              "0  example.com          1          1          0  \n",
              "1  example.com          0          0          1  \n",
              "3  example.com          1          0          1  \n",
              "4  example.com          0          1          0  "
            ]
          },
          "execution_count": 98,
          "metadata": {},
          "output_type": "execute_result"
        }
      ],
      "source": [
        "# Split values in \"Purchase History\" into separate columns\n",
        "products = df['Purchase History'].str.get_dummies(', ')\n",
        "# Convert the one-hot encoded columns to integers\n",
        "products = products.astype(int)\n",
        "df = pd.concat([df, products], axis=1)\n",
        "df\n"
      ]
    },
    {
      "cell_type": "markdown",
      "metadata": {},
      "source": [
        "**Step 8: Calculate and add a new column called \"Total Purchases\" that contains the count of products purchased by each customer.**"
      ]
    },
    {
      "cell_type": "code",
      "execution_count": 101,
      "metadata": {},
      "outputs": [
        {
          "data": {
            "text/html": [
              "<div>\n",
              "<style scoped>\n",
              "    .dataframe tbody tr th:only-of-type {\n",
              "        vertical-align: middle;\n",
              "    }\n",
              "\n",
              "    .dataframe tbody tr th {\n",
              "        vertical-align: top;\n",
              "    }\n",
              "\n",
              "    .dataframe thead th {\n",
              "        text-align: right;\n",
              "    }\n",
              "</style>\n",
              "<table border=\"1\" class=\"dataframe\">\n",
              "  <thead>\n",
              "    <tr style=\"text-align: right;\">\n",
              "      <th></th>\n",
              "      <th>Customer ID</th>\n",
              "      <th>Name</th>\n",
              "      <th>Age</th>\n",
              "      <th>Email</th>\n",
              "      <th>Purchase History</th>\n",
              "      <th>Domain</th>\n",
              "      <th>Product A</th>\n",
              "      <th>Product B</th>\n",
              "      <th>Product C</th>\n",
              "      <th>Total Purchases</th>\n",
              "    </tr>\n",
              "  </thead>\n",
              "  <tbody>\n",
              "    <tr>\n",
              "      <th>0</th>\n",
              "      <td>1</td>\n",
              "      <td>John Doe</td>\n",
              "      <td>25</td>\n",
              "      <td>johndoe@example.com</td>\n",
              "      <td>Product A, Product B</td>\n",
              "      <td>example.com</td>\n",
              "      <td>1</td>\n",
              "      <td>1</td>\n",
              "      <td>0</td>\n",
              "      <td>4</td>\n",
              "    </tr>\n",
              "    <tr>\n",
              "      <th>1</th>\n",
              "      <td>2</td>\n",
              "      <td>Jane Smith</td>\n",
              "      <td>32</td>\n",
              "      <td>jane.smith@example.com</td>\n",
              "      <td>Product C</td>\n",
              "      <td>example.com</td>\n",
              "      <td>0</td>\n",
              "      <td>0</td>\n",
              "      <td>1</td>\n",
              "      <td>2</td>\n",
              "    </tr>\n",
              "    <tr>\n",
              "      <th>3</th>\n",
              "      <td>4</td>\n",
              "      <td>Sarah Lee</td>\n",
              "      <td>42</td>\n",
              "      <td>sarah.lee@example.com</td>\n",
              "      <td>Product A, Product C</td>\n",
              "      <td>example.com</td>\n",
              "      <td>1</td>\n",
              "      <td>0</td>\n",
              "      <td>1</td>\n",
              "      <td>4</td>\n",
              "    </tr>\n",
              "    <tr>\n",
              "      <th>4</th>\n",
              "      <td>5</td>\n",
              "      <td>Mike Chen</td>\n",
              "      <td>35</td>\n",
              "      <td>mikechen@example.com</td>\n",
              "      <td>Product B</td>\n",
              "      <td>example.com</td>\n",
              "      <td>0</td>\n",
              "      <td>1</td>\n",
              "      <td>0</td>\n",
              "      <td>2</td>\n",
              "    </tr>\n",
              "  </tbody>\n",
              "</table>\n",
              "</div>"
            ],
            "text/plain": [
              "   Customer ID        Name  Age                   Email      Purchase History   \n",
              "0            1    John Doe   25     johndoe@example.com  Product A, Product B  \\\n",
              "1            2  Jane Smith   32  jane.smith@example.com             Product C   \n",
              "3            4   Sarah Lee   42   sarah.lee@example.com  Product A, Product C   \n",
              "4            5   Mike Chen   35    mikechen@example.com             Product B   \n",
              "\n",
              "        Domain  Product A  Product B  Product C  Total Purchases  \n",
              "0  example.com          1          1          0                4  \n",
              "1  example.com          0          0          1                2  \n",
              "3  example.com          1          0          1                4  \n",
              "4  example.com          0          1          0                2  "
            ]
          },
          "execution_count": 101,
          "metadata": {},
          "output_type": "execute_result"
        }
      ],
      "source": [
        "df['Total Purchases'] = df.iloc[:, 6:].sum(axis=1)\n",
        "df\n"
      ]
    },
    {
      "cell_type": "markdown",
      "metadata": {},
      "source": [
        "**Step 9: Save the cleaned dataset to a new file for further analysis.**"
      ]
    },
    {
      "cell_type": "code",
      "execution_count": 102,
      "metadata": {},
      "outputs": [],
      "source": [
        "df.to_excel('cleaned_dataset.xlsx', index=False)"
      ]
    }
  ],
  "metadata": {
    "colab": {
      "provenance": []
    },
    "kernelspec": {
      "display_name": "Python 3",
      "name": "python3"
    },
    "language_info": {
      "codemirror_mode": {
        "name": "ipython",
        "version": 3
      },
      "file_extension": ".py",
      "mimetype": "text/x-python",
      "name": "python",
      "nbconvert_exporter": "python",
      "pygments_lexer": "ipython3",
      "version": "3.11.2"
    }
  },
  "nbformat": 4,
  "nbformat_minor": 0
}
