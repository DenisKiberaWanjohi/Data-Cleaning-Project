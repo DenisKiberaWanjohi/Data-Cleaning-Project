{
 "cells": [
  {
   "cell_type": "markdown",
   "metadata": {},
   "source": [
    "**Automation: Splitting Files into smaller chunks**\n",
    "---\n",
    "Splitting large Excel/CSV files containing flat data details i.e supplier, parts etc that exceed or almost exceed the current Excel row limit.\n",
    "\n",
    "This code splits large files into small chunks of 50k rows(can be customized) and automatically stores the chunks in a folder specified in the path.\n",
    "\n",
    "**steps**\n",
    "\n",
    "Add the file path to pd.read_excel to load the file as df.\n",
    "\n",
    "In the split_excel_file function, add the:\n",
    "\n",
    "File path\n",
    "\n",
    "Preferred names for the split chunk files\n",
    "\n",
    "Preferred size of each chunk\n",
    "\n",
    "Run the code"
   ]
  },
  {
   "cell_type": "code",
   "execution_count": null,
   "metadata": {},
   "outputs": [],
   "source": [
    "import pandas as pd\n",
    "\n",
    "def split_excel_file(input_file, output_prefix, chunk_size):\n",
    "    # Read the Excel file\n",
    "    df = pd.read_excel(input_file)\n",
    "    \n",
    "    # Get the number of rows in the dataframe\n",
    "    total_rows = len(df)\n",
    "    \n",
    "    # Calculate the number of chunks needed\n",
    "    num_chunks = total_rows // chunk_size + 1\n",
    "    \n",
    "    # Split the dataframe into chunks and save each chunk as a separate Excel file\n",
    "    for i in range(num_chunks):\n",
    "        start_row = i * chunk_size\n",
    "        end_row = min((i + 1) * chunk_size, total_rows)\n",
    "        \n",
    "        chunk_df = df[start_row:end_row]\n",
    "        \n",
    "        output_file = f\"{output_prefix}_{i+1}.xlsx\"\n",
    "        chunk_df.to_excel(output_file, index=False)\n",
    "        \n",
    "        print(f\"Chunk {i+1} saved to {output_file}\")\n",
    "    \n",
    "    print(\"Splitting completed successfully.\")\n",
    "\n",
    "# Example usage\n",
    "split_excel_file(\"/content/matched_parts.xlsx\", \"split_chunk\", 50000)"
   ]
  }
 ],
 "metadata": {
  "language_info": {
   "name": "python"
  },
  "orig_nbformat": 4
 },
 "nbformat": 4,
 "nbformat_minor": 2
}
